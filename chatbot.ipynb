{
 "cells": [
  {
   "cell_type": "code",
   "execution_count": 6,
   "id": "3c9a52c0",
   "metadata": {},
   "outputs": [
    {
     "name": "stdout",
     "output_type": "stream",
     "text": [
      "✅ Accuracy : 1.0\n",
      "✅ Precision: 1.0\n",
      "✅ Recall   : 1.0\n",
      "✅ F1 Score : 1.0\n",
      "\n",
      "📋 Classification Report:\n",
      "                            precision    recall  f1-score   support\n",
      "\n",
      "               covid_info       1.00      1.00      1.00         8\n",
      "                 greeting       1.00      1.00      1.00         8\n",
      "                     joke       1.00      1.00      1.00         8\n",
      "restaurant_recommendation       1.00      1.00      1.00         8\n",
      "                  weather       1.00      1.00      1.00         8\n",
      "\n",
      "                 accuracy                           1.00        40\n",
      "                macro avg       1.00      1.00      1.00        40\n",
      "             weighted avg       1.00      1.00      1.00        40\n",
      "\n"
     ]
    }
   ],
   "source": [
    "import json\n",
    "import pandas as pd\n",
    "from sklearn.preprocessing import LabelEncoder\n",
    "from sklearn.feature_extraction.text import TfidfVectorizer\n",
    "from sklearn.linear_model import LogisticRegression\n",
    "from sklearn.metrics import accuracy_score, precision_score, recall_score, f1_score, classification_report\n",
    "import pickle\n",
    "import re\n",
    "\n",
    "# Step 1: Load dataset\n",
    "with open(\"D:\\ML PROJECTS\\Chatbot using NLP (Rule-Based + ML Hybrid)\\intents_extended.json\", \"r\") as f:\n",
    "    data = json.load(f)\n",
    "\n",
    "# Step 2: Extract patterns and labels\n",
    "texts = []\n",
    "labels = []\n",
    "\n",
    "for intent in data[\"intents\"]:\n",
    "    for pattern in intent[\"patterns\"]:\n",
    "        texts.append(pattern)\n",
    "        labels.append(intent[\"tag\"])\n",
    "\n",
    "# Step 3: Preprocessing (lowercase, remove non-alphabetic chars, split into tokens)\n",
    "def clean_text(text):\n",
    "    text = text.lower()\n",
    "    text = re.sub(r\"[^a-z\\s]\", \"\", text)\n",
    "    text = re.sub(r\"\\s+\", \" \", text).strip()\n",
    "    return text\n",
    "\n",
    "texts = [\" \".join([w for w in clean_text(t).split()]) for t in texts]\n",
    "\n",
    "# Step 4: Encode the labels\n",
    "lbl_encoder = LabelEncoder()\n",
    "y = lbl_encoder.fit_transform(labels)\n",
    "\n",
    "# Step 5: Vectorize text using TF-IDF\n",
    "vectorizer = TfidfVectorizer()\n",
    "X = vectorizer.fit_transform(texts)\n",
    "\n",
    "# Step 6: Train classifier\n",
    "model = LogisticRegression()\n",
    "model.fit(X, y)\n",
    "\n",
    "# Step 7: Evaluate (on the same data as we have a small dataset)\n",
    "y_pred = model.predict(X)\n",
    "acc = accuracy_score(y, y_pred)\n",
    "prec = precision_score(y, y_pred, average=\"weighted\")\n",
    "rec = recall_score(y, y_pred, average=\"weighted\")\n",
    "f1 = f1_score(y, y_pred, average=\"weighted\")\n",
    "report = classification_report(y, y_pred, target_names=lbl_encoder.classes_)\n",
    "\n",
    "print(\"✅ Accuracy :\", round(acc, 2))\n",
    "print(\"✅ Precision:\", round(prec, 2))\n",
    "print(\"✅ Recall   :\", round(rec, 2))\n",
    "print(\"✅ F1 Score :\", round(f1, 2))\n",
    "print(\"\\n📋 Classification Report:\\n\", report)\n",
    "\n",
    "# Step 8: Save the model and preprocessing objects\n",
    "pickle.dump(model, open(\"intent_model.pkl\", \"wb\"))\n",
    "pickle.dump(vectorizer, open(\"intent_vectorizer.pkl\", \"wb\"))\n",
    "pickle.dump(lbl_encoder, open(\"intent_label_encoder.pkl\", \"wb\"))\n",
    "\n"
   ]
  },
  {
   "cell_type": "code",
   "execution_count": null,
   "id": "f80b7c3c",
   "metadata": {},
   "outputs": [],
   "source": []
  }
 ],
 "metadata": {
  "kernelspec": {
   "display_name": "myenv",
   "language": "python",
   "name": "python3"
  },
  "language_info": {
   "codemirror_mode": {
    "name": "ipython",
    "version": 3
   },
   "file_extension": ".py",
   "mimetype": "text/x-python",
   "name": "python",
   "nbconvert_exporter": "python",
   "pygments_lexer": "ipython3",
   "version": "3.9.23"
  }
 },
 "nbformat": 4,
 "nbformat_minor": 5
}
